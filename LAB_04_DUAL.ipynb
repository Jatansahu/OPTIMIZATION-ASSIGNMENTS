{
  "nbformat": 4,
  "nbformat_minor": 0,
  "metadata": {
    "colab": {
      "provenance": []
    },
    "kernelspec": {
      "name": "python3",
      "display_name": "Python 3"
    },
    "language_info": {
      "name": "python"
    }
  },
  "cells": [
    {
      "cell_type": "markdown",
      "source": [
        "**ID -202218061**\n",
        "\n",
        "**NAME- JATAN SAHU**\n",
        "\n",
        "**ASSIGNMENT - 04**"
      ],
      "metadata": {
        "id": "V3O3NDCTAfF3"
      }
    },
    {
      "cell_type": "markdown",
      "source": [
        "#Write a program to convert primal to dual for slack variable"
      ],
      "metadata": {
        "id": "VMCsL8lMAqK_"
      }
    },
    {
      "cell_type": "code",
      "execution_count": null,
      "metadata": {
        "id": "Oi66Oy43AP5N",
        "colab": {
          "base_uri": "https://localhost:8080/"
        },
        "outputId": "67e7f428-7d03-4cf7-d6a1-696570d5d688"
      },
      "outputs": [
        {
          "name": "stdout",
          "output_type": "stream",
          "text": [
            "Enter number of constraint in primal problem :3\n",
            "Enter coefficients of the objective function :5 2 7\n",
            "Enter constrain1 seprated with spaces :3 5 2\n",
            "Enter constrain2 seprated with spaces :1 2 3\n",
            "Enter constrain3 seprated with spaces :2 1 4\n",
            "Enter right-hand side values of the constraints 12 8 5\n",
            "Enter Signs  (<=) ,(>=) or (=) for constraint 1 :>=\n",
            "Enter Signs  (<=) ,(>=) or (=) for constraint 2 :<=\n",
            "Enter Signs  (<=) ,(>=) or (=) for constraint 3 :=\n"
          ]
        }
      ],
      "source": [
        "import numpy as np\n",
        "#Taking the coefficients of the primal problem (c, A, b)\n",
        "x_prim = int(input(\"Enter number of constraint in primal problem :\"))\n",
        "\n",
        "c_prim=np.array(list(map(int,input(\"Enter coefficients of the objective function :\").split(\" \"))))\n",
        "\n",
        "\n",
        "#Taking input for constraints\n",
        "A= []\n",
        "for i in range(x_prim):\n",
        "  a=list(map(int,input(f\"Enter constrain{i+1} seprated with spaces :\").split(\" \")))\n",
        "  A.append(a)\n",
        "A_prim =np.array(A)\n",
        "# A_prim=[[1,2,0,0],[2,3,0,0],[1,0,0,0],[0,1,0,0]]\n",
        "\n",
        "b_prim=np.array(list(map(int,input(\"Enter right-hand side values of the constraints \").split(\" \"))))\n",
        "\n",
        "#Taking sign \n",
        "res=[]\n",
        "for i in range(len(A_prim)): \n",
        "  r=str(input(f\"Enter Signs  (<=) ,(>=) or (=) for constraint {i+1} :\"))\n",
        "  res.append(r)\n",
        "\n",
        "\n",
        "    \n",
        "#Changing it into standard form\n",
        "for i in range(len(res)):\n",
        "  if res[i] == '<=':\n",
        "    continue\n",
        "  elif res[i] == '>=':\n",
        "        A_prim[i,:] = A_prim[i,:]*(-1)\n",
        "        res[i] = '<='\n",
        "        b_prim[i] = b_prim[i]*(-1)\n",
        "\n",
        "  elif res[i] == '=':\n",
        "        A_prim[i,:] = A_prim[i,:]\n",
        "        res[i]='<='\n",
        "        A_prim = np.insert(A_prim, A_prim.shape[1],(A_prim[i,:])*(-1), axis=0)\n",
        "        res.append('<=')\n",
        "        b_prim = np.insert(b_prim, b_prim.shape[0],(b_prim[i])*(-1))\n",
        "\n",
        "# #Type \"nn\" for non negative(>=)  and type \"un\" for  unrestricted\n",
        "# for j in range(len(A_prim)):\n",
        "#     r = str(input(f\"Enter nn for non negative and un for unrestricted x{j+1} is :\"))\n",
        "#     if r== 'nn':\n",
        "#       continue\n",
        "#     elif r==\"un\":\n",
        "#       X0 =np.array(A_prim[:,j])\n",
        "#       A_prim = np.hstack((A_prim,X0))\n",
        "     \n"
      ]
    },
    {
      "cell_type": "code",
      "source": [
        "#After changing it to the standard form \n",
        "print(\"Matrix A :\",A_prim)\n",
        "print()\n",
        "print(\"b  :\",b_prim)\n",
        "print()\n",
        "print(\"c :\",c_prim)\n",
        "print()\n",
        "print(\"sign :\",res)\n"
      ],
      "metadata": {
        "colab": {
          "base_uri": "https://localhost:8080/"
        },
        "id": "ae9ezTK-5p64",
        "outputId": "b14573c5-79e3-49e2-83a8-51cb5fc40383"
      },
      "execution_count": null,
      "outputs": [
        {
          "output_type": "stream",
          "name": "stdout",
          "text": [
            "Matrix A : [[-3 -5 -2]\n",
            " [ 1  2  3]\n",
            " [ 2  1  4]\n",
            " [-2 -1 -4]]\n",
            "\n",
            "b  : [-12   8   5  -5]\n",
            "\n",
            "c : [5 2 7]\n",
            "\n",
            "sign : ['<=', '<=', '<=', '<=']\n"
          ]
        }
      ]
    },
    {
      "cell_type": "code",
      "source": [
        "def prim_to_dual(c_prim,A_prim,b_prim):\n",
        "    \n",
        "\n",
        "    \n",
        "    #For maximisation problem and for slack variable and variables are greater equal zero\n",
        "    #1. Define the number of decision variables and constraints in the primal problem and dual problem.\n",
        "    dv_prim= len(c_prim)\n",
        "    cons_prim =len(A_prim)\n",
        "\n",
        "    dv_dual = len(b_prim)\n",
        "    cons_prim = len(c_prim)\n",
        "    \n",
        "    \n",
        "\n",
        "                           \n",
        "    #2. Defining the coefficient matrix A_dual for the dual problem as the transpose of the coefficient matrix A for the primal problem.\n",
        "    A_dual=A_prim.T\n",
        "    print(\"Matrix A_dual :\",A_dual)\n",
        "\n",
        "    #3Defining the objective coefficient vector c_dual for the dual problem as the list of constants on the right-hand side of each primal constraint.\n",
        "    c_dual = b_prim.T\n",
        "    print(\"Decision variable coefficient for dual :\",c_dual)\n",
        "\n",
        "    #4.Define the right-hand side vector b_dual for the dual problem as the list of coefficients of the decision variables in the primal objective function.\n",
        "    b_dual = c_prim.T\n",
        "    print(\"Right hand side vector for dual problem :\",b_dual)\n",
        "    \n",
        "prim_to_dual(c_prim,A_prim,b_prim)\n"
      ],
      "metadata": {
        "colab": {
          "base_uri": "https://localhost:8080/"
        },
        "id": "_N_NxWvEO42I",
        "outputId": "f49caec2-1dcf-44d0-a3c3-ed55abddd0d1"
      },
      "execution_count": null,
      "outputs": [
        {
          "output_type": "stream",
          "name": "stdout",
          "text": [
            "Matrix A_dual : [[-3  1  2 -2]\n",
            " [-5  2  1 -1]\n",
            " [-2  3  4 -4]]\n",
            "Decision variable coefficient for dual : [-12   8   5  -5]\n",
            "Right hand side vector for dual problem : [5 2 7]\n"
          ]
        }
      ]
    },
    {
      "cell_type": "code",
      "source": [],
      "metadata": {
        "id": "Uy7zuMCKqva5"
      },
      "execution_count": null,
      "outputs": []
    }
  ]
}