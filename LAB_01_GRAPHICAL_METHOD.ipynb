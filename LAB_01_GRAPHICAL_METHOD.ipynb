{
  "cells": [
    {
      "cell_type": "markdown",
      "metadata": {
        "id": "hg9PqhaA0JRB"
      },
      "source": [
        "**ID -202218061**\n",
        "**NAME-JATAN SAHU**\n"
      ]
    },
    {
      "cell_type": "markdown",
      "metadata": {
        "id": "HKa9q7As0UU1"
      },
      "source": [
        "**Implement the graphical method for solving linear programming problems\n",
        "for two variables.**\n",
        "1. Plot the feasible region.\n",
        "2. Find the optimum solution using\n",
        "(a) Corner/extreme point method\n",
        "(b) Iso profit method"
      ]
    },
    {
      "cell_type": "markdown",
      "metadata": {
        "id": "dd_AWOWh0aBZ"
      },
      "source": [
        "QUESTION - \n",
        "MAXIMIZE Z=150x + 100y\n",
        "\n",
        "s.t. 8x+5y<=60\n",
        "\n",
        "4x+5y<=40\n",
        "\n",
        "x,y >=0\n",
        "\n",
        "\n",
        "\n"
      ]
    },
    {
      "cell_type": "markdown",
      "source": [
        "**1. Plot the feasible region**"
      ],
      "metadata": {
        "id": "x7cIHSvmMmcZ"
      }
    },
    {
      "cell_type": "code",
      "execution_count": null,
      "metadata": {
        "id": "RUrREEqLA4Rc"
      },
      "outputs": [],
      "source": [
        "# Importing libraries\n",
        "import numpy as np\n",
        "import matplotlib.pyplot as plt\n",
        "from sympy import symbols,Eq,solve"
      ]
    },
    {
      "cell_type": "code",
      "execution_count": null,
      "metadata": {
        "id": "j390O05nCZtO",
        "colab": {
          "base_uri": "https://localhost:8080/",
          "height": 300
        },
        "outputId": "a041992a-54d6-442d-bf15-3fe3f196a0c5"
      },
      "outputs": [
        {
          "output_type": "execute_result",
          "data": {
            "text/plain": [
              "Text(0, 0.5, '$y$')"
            ]
          },
          "metadata": {},
          "execution_count": 39
        },
        {
          "output_type": "display_data",
          "data": {
            "text/plain": [
              "<Figure size 432x288 with 1 Axes>"
            ],
            "image/png": "[encoded data removed]"
          },
          "metadata": {
            "needs_background": "light"
          }
        }
      ],
      "source": [
        "# Equations\n",
        "x=np.linspace(0,15) # 0 and 15 are start and stop point of line\n",
        "#y >=0\n",
        "y1= x*0 +0 \n",
        "\n",
        "#5y<= -8x +60\n",
        "y2= (-8*x + 60)/5\n",
        "\n",
        "#5y <= -4x +40\n",
        "y3=(-4 * x + 40)/5\n",
        "\n",
        "#Plotting the graph\n",
        "plt.axvline(0,color='r',label=r'$x\\geq0$') \n",
        "plt.plot(x, y1, label=r'$y\\geq0$' , color='g')\n",
        "plt.plot(x, y2, label=r'$5y\\leq-8x + 60$')\n",
        "plt.plot(x, y3, label=r'$5y\\leq -4x + 40$')\n",
        "\n",
        "plt.xlim(-2,15)\n",
        "plt.ylim(-2,14)\n",
        "\n",
        "#Finding the feasible region\n",
        "d = np.linspace(-2,16,400)\n",
        "x,y = np.meshgrid(d,d)\n",
        "plt.imshow( ((x>=0) & (y>=0) & (5*y<= -8*x +60) & (5*y <= -4*x +40) ).astype(int) , \n",
        "                extent=(x.min(),x.max(),y.min(),y.max()),origin=\"lower\", cmap=\"Blues\", alpha = 1.0);               \n",
        "plt.legend(bbox_to_anchor=(1.05, 1), loc=2, borderaxespad=0.)\n",
        "plt.xlabel(r'$x$')\n",
        "plt.ylabel(r'$y$')"
      ]
    },
    {
      "cell_type": "markdown",
      "source": [
        "**2. Find the optimum solution using\n",
        "(a) Corner/extreme point method\n",
        "(b) Iso profit method**"
      ],
      "metadata": {
        "id": "Tz_aQTeMMwgy"
      }
    },
    {
      "cell_type": "markdown",
      "source": [
        "QUESTION - \n",
        "\n",
        "MAXIMIZE Z=150x + 100y\n",
        "\n",
        "s.t. 8x+5y<=60  ------(1)\n",
        "\n",
        "4x+5y<=40   --------(2)\n",
        "\n",
        "x,y >=0"
      ],
      "metadata": {
        "id": "Pmkx-YCJP6f5"
      }
    },
    {
      "cell_type": "code",
      "source": [
        "#Finding  optimal solution using Corner/extreme point\n",
        "x1 = float(0)  \n",
        "y1 = (60 - 8*x1)/5  # Putting x=0 in eqn 1\n",
        "print(\"Point 1 : ({},{})\".format(x1,y1))\n",
        "\n",
        "y2 = 0\n",
        "x2 = (40 - 5*y2)/4  #Putting y=0 in eqn 2\n",
        "print(\"Point 2 : ({},{})\".format(x2,y2))  \n",
        "\n",
        "\n",
        "j = 0\n",
        "for i in range(0,15):\n",
        "    if (60 - 8*i)/5 == (40 - 4*i)/5:\n",
        "        while True:\n",
        "            j = j+1\n",
        "            if (60 -8*i)/5 == (40 - 4*i)/5 == (j - 150*i)/100: #change according to z value\n",
        "                x = i\n",
        "                x2 = (40 - 4*i)/5\n",
        "                break\n",
        "#For finding the intersection between line 1 and line 2\n",
        "j = 0\n",
        "for i in range(0,15):\n",
        "    if (60 - 8*i)/5 == (40 - 4*i)/5:\n",
        "        while True:\n",
        "            j = j+1\n",
        "            if (60 -8*i)/5 == (40 - 4*i)/5 == (j - 150*i)/100: #changing according to z values\n",
        "                x3 = i\n",
        "                y3 = (40 - 4*i)/5\n",
        "                break\n",
        "\n",
        "print(\"Point 3: ({},{})\".format(x3,y3))\n",
        "\n",
        "def maximum(x,y):   #defining max function \n",
        "  max = -100000000000\n",
        "  maxpoints = (-100000000000,-10000000000)\n",
        "  z = 150*x + 100*y  # Equation for optimal equation\n",
        "  if z >= max:\n",
        "    max = z\n",
        "    maxpoints = (x,y)\n",
        "  return z,maxpoints\n",
        "print(\"Optimum solution of the given eqn  and point of intersection is  :\")\n",
        "maximum(x1,y1) \n",
        "maximum(x2,y2)\n",
        "maximum(x3,y3)"
      ],
      "metadata": {
        "colab": {
          "base_uri": "https://localhost:8080/"
        },
        "id": "Dx6wbsXl6Zv9",
        "outputId": "654c727f-e24e-4b32-f224-e826feffdc66"
      },
      "execution_count": null,
      "outputs": [
        {
          "output_type": "stream",
          "name": "stdout",
          "text": [
            "First point : (0.0,12.0)\n",
            "Second point : (10.0,0)\n",
            "Third point : (5,4.0)\n",
            "Optimum solution of the given eqn is  :\n"
          ]
        },
        {
          "output_type": "execute_result",
          "data": {
            "text/plain": [
              "(1150.0, (5, 4.0))"
            ]
          },
          "metadata": {},
          "execution_count": 9
        }
      ]
    },
    {
      "cell_type": "markdown",
      "source": [
        "**(b) Iso profit method**"
      ],
      "metadata": {
        "id": "H6G3xJ7iLRAa"
      }
    },
    {
      "cell_type": "code",
      "source": [
        "x = np.linspace(0, 10, 100) \n",
        "y1 = (60 - 8*x)/5\n",
        "y2 = (40 - 4*x)/5\n",
        "y3 = np.zeros(100)\n",
        "\n",
        "fig, ax = plt.subplots()\n",
        "plt.fill_between(x, y3, np.minimum(y1, y2), color='green', alpha=0.5)\n",
        "plt.plot(x, y1, '-r', label=r'$5y\\leq-8x + 60$' , color='g')\n",
        "plt.plot(x, y2, '-b', label=r'$5y\\leq -4x + 40$')\n",
        "plt.legend(loc='upper right')\n",
        "plt.xlim(0,15)\n",
        "plt.ylim(0,14)\n",
        "plt.xlabel(r'$x$')\n",
        "plt.ylabel(r'$y$')\n",
        "\n",
        "# Plot the iso-profit lines\n",
        "for p in [300,450,600,900,1150,1500,1700]:\n",
        "    b = (p - 150*x) / 100\n",
        "    plt.plot(x, b, '--')\n",
        "plt.show()"
      ],
      "metadata": {
        "colab": {
          "base_uri": "https://localhost:8080/",
          "height": 283
        },
        "id": "If6rS4udL2yv",
        "outputId": "4390fb42-15b8-41fa-a11a-d487bd24cd04"
      },
      "execution_count": null,
      "outputs": [
        {
          "output_type": "display_data",
          "data": {
            "text/plain": [
              "<Figure size 432x288 with 1 Axes>"
            ],
            "image/png": "[encoded data removed]"
          },
          "metadata": {
            "needs_background": "light"
          }
        }
      ]
    },
    {
      "cell_type": "markdown",
      "source": [
        "1150 is the optimal solution it is under line 1 and 2"
      ],
      "metadata": {
        "id": "i86Fpk1JVCHW"
      }
    },
    {
      "cell_type": "code",
      "source": [],
      "metadata": {
        "id": "WLgyAL2ESl3R"
      },
      "execution_count": null,
      "outputs": []
    }
  ],
  "metadata": {
    "colab": {
      "provenance": []
    },
    "kernelspec": {
      "display_name": "Python 3",
      "name": "python3"
    },
    "language_info": {
      "name": "python"
    }
  },
  "nbformat": 4,
  "nbformat_minor": 0
}