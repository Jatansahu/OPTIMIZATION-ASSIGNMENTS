{
  "nbformat": 4,
  "nbformat_minor": 0,
  "metadata": {
    "colab": {
      "provenance": []
    },
    "kernelspec": {
      "name": "python3",
      "display_name": "Python 3"
    },
    "language_info": {
      "name": "python"
    }
  },
  "cells": [
    {
      "cell_type": "markdown",
      "source": [
        "**ID - 202218061**\n",
        "\n",
        "**NAME -JATAN SAHU**\n",
        "\n",
        "**ASSIGNMENT -02**\n",
        "\n",
        "**UPDATED**"
      ],
      "metadata": {
        "id": "fI20A1dN_vSp"
      }
    },
    {
      "cell_type": "code",
      "source": [
        "import numpy as np  #installing numpy library\n",
        "from itertools import combinations #importing comination function for doing combination"
      ],
      "metadata": {
        "id": "x_Wkzks4AbHO"
      },
      "execution_count": null,
      "outputs": []
    },
    {
      "cell_type": "code",
      "source": [
        "mat = np.array([[2,3,-1,4], [1,-2,-6,-7] ])  #coefficiant matrix\n",
        "dep_mat = np.array([8,-3])                   #dependent matrix\n",
        "z=np.array([1,2,1,1])   #Decision coeffient\n",
        "m = len(mat)  #NUMBER OF ROWS\n",
        "n = len(mat[0])     #NUMBER OF COLUMNS\n",
        "\n",
        "#Extracting value of a1,a2,a3... from equation\n",
        "A=[]\n",
        "A=list(zip(*mat))\n",
        "print(A)\n",
        "\n",
        "#Values of B(b1,b2,b3...)\n",
        "def B(a,m):\n",
        "  return list(combinations(a,m))  #Taking all the combination \n",
        "Ba=B(A,m)\n",
        "print(B)\n",
        "\n",
        "#Possible combinations of index B \n",
        "indB = B([x for x in range(len(A))],m)\n",
        "indB\n",
        "\n",
        "\n",
        "temL = []\n",
        "X = []\n",
        "#Finding inverse of B(b1,b2,..) and doing dot product with dependent matrix b\n",
        "for i in range(len(Ba)):\n",
        "  B = np.matrix(Ba[i]).T \n",
        "  Bi = np.linalg.inv(B)\n",
        "  x = np.array(np.dot(Bi,dep_mat))\n",
        "  temL.append(x)\n"
      ],
      "metadata": {
        "colab": {
          "base_uri": "https://localhost:8080/"
        },
        "id": "RprbF2HiKc7p",
        "outputId": "ee0e7baa-65a8-47fd-8b3a-63014e48a53d"
      },
      "execution_count": null,
      "outputs": [
        {
          "output_type": "stream",
          "name": "stdout",
          "text": [
            "[(2, 1), (3, -2), (-1, -6), (4, -7)]\n",
            "<function B at 0x7f2cc4597700>\n"
          ]
        }
      ]
    },
    {
      "cell_type": "code",
      "source": [
        "#Storing values in tempL varirable \n",
        "for i in range(len(temL)):\n",
        "  x = temL[i][0]\n",
        "  y = indB[i]\n",
        "  arr = [0.0]*len(A)\n",
        "  for j in range(len(x)):\n",
        "    arr[y[j]] =  x[j]\n",
        "  X.append(arr)\n"
      ],
      "metadata": {
        "id": "vUv0_Qw4TToO"
      },
      "execution_count": null,
      "outputs": []
    },
    {
      "cell_type": "code",
      "source": [
        "#X will give all the feasible solutions \n",
        "print(\"All feasible solution is \",X)\n",
        "#putting X values in decision matrix and storing all the feasible solution in sol list\n",
        "sol=[]\n",
        "for i in X:\n",
        "    i=np.array(i)\n",
        "    opt=np.dot(z,i.T)\n",
        "    sol.append(opt)\n",
        "#Finding optimal solution which will give maximum value \n",
        "opt_sol = max(sol)\n",
        "print(\"Optimal solution is :\",opt_sol)"
      ],
      "metadata": {
        "colab": {
          "base_uri": "https://localhost:8080/"
        },
        "id": "Dp-2vjr8L5V0",
        "outputId": "80c64de2-e3fb-4dfa-abba-e4d7652e8421"
      },
      "execution_count": null,
      "outputs": [
        {
          "output_type": "stream",
          "name": "stdout",
          "text": [
            "All feasible solution is  [[1.0, 2.0, 0.0, 0.0], [4.636363636363636, 0.0, 1.2727272727272727, 0.0], [2.4444444444444446, 0.0, 0.0, 0.7777777777777777], [0.0, 2.55, -0.35, 0.0], [0.0, 3.3846153846153837, 0.0, -0.5384615384615382], [0.0, 0.0, -1.4193548387096775, 1.6451612903225807]]\n",
            "Optimal solution is : 6.230769230769229\n"
          ]
        }
      ]
    },
    {
      "cell_type": "markdown",
      "source": [],
      "metadata": {
        "id": "yZ5LaZMQLnpN"
      }
    },
    {
      "cell_type": "markdown",
      "source": [],
      "metadata": {
        "id": "Y2erWZLALnlW"
      }
    }
  ]
}