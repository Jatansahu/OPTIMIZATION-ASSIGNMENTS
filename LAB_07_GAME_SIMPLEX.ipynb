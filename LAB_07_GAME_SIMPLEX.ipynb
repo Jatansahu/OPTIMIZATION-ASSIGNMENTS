{
  "cells": [
    {
      "cell_type": "markdown",
      "source": [
        "#ID - 202218061\n",
        "\n",
        "#NAME - JATAN SAHU\n",
        "\n",
        "#ASSIGNMENT NO. - 7"
      ],
      "metadata": {
        "id": "cZRUpAowDuaV"
      },
      "id": "cZRUpAowDuaV"
    },
    {
      "cell_type": "code",
      "source": [
        "import numpy as np\n",
        "import sympy\n",
        "from IPython.display import display, Math"
      ],
      "metadata": {
        "id": "IHVCfNyU_j2u"
      },
      "id": "IHVCfNyU_j2u",
      "execution_count": null,
      "outputs": []
    },
    {
      "cell_type": "markdown",
      "source": [
        "#Let x1,x2,x3 and y1 , y2 and y3 be the probabilities for A and B respectively "
      ],
      "metadata": {
        "id": "xe0RyXDiA6yb"
      },
      "id": "xe0RyXDiA6yb"
    },
    {
      "cell_type": "markdown",
      "source": [
        "#GOAL for A- A's motive is to maximise minimum gain \n",
        "\n",
        "#GOAL for B- B's motive is to minimize maximum loss"
      ],
      "metadata": {
        "id": "EUnLW68xBHne"
      },
      "id": "EUnLW68xBHne"
    },
    {
      "cell_type": "code",
      "source": [
        "A = np.array([[1, -1, -1], [-1, -1, 3], [-1, 2, -1]])\n",
        "A"
      ],
      "metadata": {
        "colab": {
          "base_uri": "https://localhost:8080/"
        },
        "id": "76FGAo2q_oU4",
        "outputId": "6fdf90a2-d035-4756-a30d-2e2e1b438798"
      },
      "id": "76FGAo2q_oU4",
      "execution_count": null,
      "outputs": [
        {
          "output_type": "execute_result",
          "data": {
            "text/plain": [
              "array([[ 1, -1, -1],\n",
              "       [-1, -1,  3],\n",
              "       [-1,  2, -1]])"
            ]
          },
          "metadata": {},
          "execution_count": 15
        }
      ]
    },
    {
      "cell_type": "code",
      "source": [
        "k=2\n",
        "A=A+k #adding k to make all terms positive\n",
        "A"
      ],
      "metadata": {
        "colab": {
          "base_uri": "https://localhost:8080/"
        },
        "id": "Mou3ScxI_rq_",
        "outputId": "5df0883b-51b3-4e04-cc46-770362bd9b92"
      },
      "id": "Mou3ScxI_rq_",
      "execution_count": null,
      "outputs": [
        {
          "output_type": "execute_result",
          "data": {
            "text/plain": [
              "array([[3, 1, 1],\n",
              "       [1, 1, 5],\n",
              "       [1, 4, 1]])"
            ]
          },
          "metadata": {},
          "execution_count": 16
        }
      ]
    },
    {
      "cell_type": "code",
      "source": [
        "A.shape[1]"
      ],
      "metadata": {
        "colab": {
          "base_uri": "https://localhost:8080/"
        },
        "id": "dpXV6DeT_xOZ",
        "outputId": "952cf7b3-00a6-4e3f-d2ce-6fe4a6adb546"
      },
      "id": "dpXV6DeT_xOZ",
      "execution_count": null,
      "outputs": [
        {
          "output_type": "execute_result",
          "data": {
            "text/plain": [
              "3"
            ]
          },
          "metadata": {},
          "execution_count": 17
        }
      ]
    },
    {
      "cell_type": "code",
      "source": [
        "for i in range(3):\n",
        "    globals()[f\"Y{i+1}\"]=sympy.symbols(f\"Y{i+1}\")\n",
        "Z=sympy.symbols(\"Z\")"
      ],
      "metadata": {
        "id": "PxlELKj-_0eW"
      },
      "id": "PxlELKj-_0eW",
      "execution_count": null,
      "outputs": []
    },
    {
      "cell_type": "markdown",
      "source": [
        "#We are solving with respect to B's motive"
      ],
      "metadata": {
        "id": "pdbScyH0Bd09"
      },
      "id": "pdbScyH0Bd09"
    },
    {
      "cell_type": "code",
      "source": [
        "print(\"Objective function: \")\n",
        "display(Math(f\"Max {sympy.latex(Z)} = {sympy.latex(Y1 + Y2 + Y3)}\")) #for objective function"
      ],
      "metadata": {
        "colab": {
          "base_uri": "https://localhost:8080/",
          "height": 57
        },
        "id": "Jpq7mDjp_5MU",
        "outputId": "b8822252-a545-4048-8118-32e15b89c627"
      },
      "id": "Jpq7mDjp_5MU",
      "execution_count": null,
      "outputs": [
        {
          "output_type": "stream",
          "name": "stdout",
          "text": [
            "Objective function: \n"
          ]
        },
        {
          "output_type": "display_data",
          "data": {
            "text/plain": [
              "<IPython.core.display.Math object>"
            ],
            "text/latex": "$\\displaystyle Max Z = Y_{1} + Y_{2} + Y_{3}$"
          },
          "metadata": {}
        }
      ]
    },
    {
      "cell_type": "code",
      "source": [
        "A.shape[0]"
      ],
      "metadata": {
        "colab": {
          "base_uri": "https://localhost:8080/"
        },
        "id": "tApkbXwa_7p0",
        "outputId": "667d9cd1-7bbb-4ef9-daac-2c80c1bce38c"
      },
      "id": "tApkbXwa_7p0",
      "execution_count": null,
      "outputs": [
        {
          "output_type": "execute_result",
          "data": {
            "text/plain": [
              "3"
            ]
          },
          "metadata": {},
          "execution_count": 22
        }
      ]
    },
    {
      "cell_type": "code",
      "source": [
        "print(\"Subject to: \")\n",
        "for i in range(3):\n",
        "    display(A[i][0]*Y1 + A[i][1]*Y2 + A[i][2]*Y3 <= 1)\n",
        "    \n",
        "display(Math(f\"{sympy.latex(Y1)}, {sympy.latex(Y2)}, {sympy.latex(Y3)} >= 0\")) #for non negativity constraint"
      ],
      "metadata": {
        "colab": {
          "base_uri": "https://localhost:8080/",
          "height": 121
        },
        "id": "eJ272kH2ABBW",
        "outputId": "ec89d5be-7294-48f5-cb9a-64add8228341"
      },
      "id": "eJ272kH2ABBW",
      "execution_count": null,
      "outputs": [
        {
          "output_type": "stream",
          "name": "stdout",
          "text": [
            "Subject to: \n"
          ]
        },
        {
          "output_type": "display_data",
          "data": {
            "text/plain": [
              "3*Y1 + Y2 + Y3 <= 1"
            ],
            "text/latex": "$\\displaystyle 3 Y_{1} + Y_{2} + Y_{3} \\leq 1$"
          },
          "metadata": {}
        },
        {
          "output_type": "display_data",
          "data": {
            "text/plain": [
              "Y1 + Y2 + 5*Y3 <= 1"
            ],
            "text/latex": "$\\displaystyle Y_{1} + Y_{2} + 5 Y_{3} \\leq 1$"
          },
          "metadata": {}
        },
        {
          "output_type": "display_data",
          "data": {
            "text/plain": [
              "Y1 + 4*Y2 + Y3 <= 1"
            ],
            "text/latex": "$\\displaystyle Y_{1} + 4 Y_{2} + Y_{3} \\leq 1$"
          },
          "metadata": {}
        },
        {
          "output_type": "display_data",
          "data": {
            "text/plain": [
              "<IPython.core.display.Math object>"
            ],
            "text/latex": "$\\displaystyle Y_{1}, Y_{2}, Y_{3} >= 0$"
          },
          "metadata": {}
        }
      ]
    },
    {
      "cell_type": "markdown",
      "source": [],
      "metadata": {
        "id": "NLJTGUM2A1-a"
      },
      "id": "NLJTGUM2A1-a"
    },
    {
      "cell_type": "code",
      "execution_count": null,
      "id": "level-mission",
      "metadata": {
        "colab": {
          "base_uri": "https://localhost:8080/"
        },
        "id": "level-mission",
        "outputId": "8d8e432d-f8a5-48da-809e-e8dbbcb81fb2"
      },
      "outputs": [
        {
          "output_type": "stream",
          "name": "stdout",
          "text": [
            "Simplex Algorithm\n",
            "Iteration: 1\n",
            "B \tCB \tYB \ty1 \ty2 \ty3 \ty4 \ty5 \ty6 \ty7\n",
            "............................................................................\n",
            "3\t0\t1\t3\t1\t1\t1\t0\t0\t\n",
            "4\t0\t1\t1\t1\t5\t0\t1\t0\t\n",
            "5\t0\t1\t1\t4\t1\t0\t0\t1\t\n",
            "Zj - Cj:               -1\t-1\t-1\t0\t0\t0\t\n",
            "\n",
            "pivot element index: [0 3]\n",
            "pivot element:  3\n",
            "\n",
            "Iteration: 2\n",
            "B \tCB \tYB \ty1 \ty2 \ty3 \ty4 \ty5 \ty6 \ty7\n",
            "............................................................................\n",
            "0\t1\t1/3\t1\t1/3\t1/3\t1/3\t0\t0\t\n",
            "4\t0\t2/3\t0\t2/3\t14/3\t-1/3\t1\t0\t\n",
            "5\t0\t2/3\t0\t11/3\t2/3\t-1/3\t0\t1\t\n",
            "Zj - Cj:               0\t-2/3\t-2/3\t1/3\t0\t0\t\n",
            "\n",
            "pivot element index: [2 4]\n",
            "pivot element:  11/3\n",
            "\n",
            "Iteration: 3\n",
            "B \tCB \tYB \ty1 \ty2 \ty3 \ty4 \ty5 \ty6 \ty7\n",
            "............................................................................\n",
            "0\t1\t3/11\t1\t0\t3/11\t4/11\t0\t-1/11\t\n",
            "4\t0\t6/11\t0\t0\t50/11\t-3/11\t1\t-2/11\t\n",
            "1\t1\t2/11\t0\t1\t2/11\t-1/11\t0\t3/11\t\n",
            "Zj - Cj:               0\t0\t-6/11\t3/11\t0\t2/11\t\n",
            "\n",
            "pivot element index: [1 5]\n",
            "pivot element:  50/11\n",
            "\n",
            "Iteration: 4\n",
            "B \tCB \tYB \ty1 \ty2 \ty3 \ty4 \ty5 \ty6 \ty7\n",
            "............................................................................\n",
            "0\t1\t6/25\t1\t0\t0\t19/50\t-3/50\t-2/25\t\n",
            "2\t1\t3/25\t0\t0\t1\t-3/50\t11/50\t-1/25\t\n",
            "1\t1\t4/25\t0\t1\t0\t-2/25\t-1/25\t7/25\t\n",
            "Zj - Cj:               0\t0\t0\t6/25\t3/25\t4/25\t\n",
            "\n",
            "All Zj - Cj values are >= 0, so we must stop\n",
            "Simplex Algorithm Ends\n"
          ]
        }
      ],
      "source": [
        "import numpy as np \n",
        "from fractions import Fraction #to convert numbers from decimals\n",
        "\n",
        "print(\"Simplex Algorithm\") \n",
        "\n",
        "# given values\n",
        "\n",
        "# A will contain the coefficients of the constraints \n",
        "A = np.array([[3 , 1, 1, 1, 0, 0], [1, 1, 5, 0, 1, 0], [1,4, 1, 0, 0, 1]]) \n",
        "\n",
        "# b will contain requirement vector \n",
        "b = np.array([1, 1, 1])\n",
        "# c will contain coefficients of objective function Z \n",
        "c = np.array([1, 1, 1, 0, 0, 0])\n",
        "\n",
        "\n",
        "\n",
        "cb = np.array(c[3]) \n",
        "B = np.array([[3], [4],[5]])\n",
        "# cb contains their corresponding coefficients in Z \n",
        "cb = np.vstack((cb, c[4]))\n",
        "cb = np.vstack((cb, c[5]))\n",
        "\n",
        "\n",
        "\n",
        "\n",
        "\n",
        "xb = np.transpose([b])\n",
        "# combine matrices B and cb \n",
        "table = np.hstack((B, cb))\n",
        "table = np.hstack((table, xb))\n",
        "# combine matrices B, cb and xb \n",
        "# finally combine matrix A to form the complete simplex table \n",
        "table = np.hstack((table, A))\n",
        "# change the type of table to float \n",
        "table = np.array(table, dtype ='float') \n",
        "\n",
        " \n",
        "\n",
        "# when optimality reached it will be made 1 \n",
        "reached = 0\n",
        "itr = 1\n",
        "unbounded = 0\n",
        "check=0\n",
        "\n",
        "while reached == 0: \n",
        "\n",
        "    print(\"Iteration: \", end ='') \n",
        "    print(itr) \n",
        "    print(\"B \\tCB \\tYB \\ty1 \\ty2 \\ty3 \\ty4 \\ty5 \\ty6 \\ty7\")\n",
        "    print(\"............................................................................\")\n",
        "    for row in table: \n",
        "        for element in row: \n",
        "            print(Fraction(str(element)).limit_denominator(100), end ='\\t') \n",
        "        print() \n",
        "\n",
        "# calculate Relative profits-> zj - cj for non-basics \n",
        "# relative profits or zj-cj is represented by RP\n",
        "    i = 0\n",
        "    RP = [] \n",
        "    while i<len(A[0]): \n",
        "        RP.append(np.sum(table[:, 1]*table[:, 3 + i]) - c[i]) \n",
        "        i = i + 1\n",
        "\n",
        "    print(\"Zj - Cj:              \", end =\" \") \n",
        "    for profit in RP: \n",
        "        print(Fraction(str(profit)).limit_denominator(100), end =\"\\t\") \n",
        "    print() \n",
        "    i = 0\n",
        "    \n",
        "    b_var = table[:, 0] \n",
        "\n",
        "    print() \n",
        "    flag = 0\n",
        "    for profit in RP: \n",
        "        if profit < 0: \n",
        "            flag = 1\n",
        "            break            \n",
        "        \n",
        "    if flag == 0: \n",
        "        print(\"All Zj - Cj values are >= 0, so we must stop\") \n",
        "        reached = 1\n",
        "        break\n",
        "\n",
        "\n",
        "    # kth var will enter the basis \n",
        "    k = RP.index(min(RP)) \n",
        "    minimum = 99999\n",
        "    i = 0; \n",
        "    r = -1\n",
        "    # min ratio test (only positive values) \n",
        "    while i<len(table): \n",
        "        if (table[:, 2][i]>0 and table[:, 3 + k][i]>0): \n",
        "            val = table[:, 2][i]/table[:, 3 + k][i] \n",
        "            if val<minimum: \n",
        "                minimum = val \n",
        "                r = i # leaving variable \n",
        "        i+= 1\n",
        "\n",
        "# if no min ratio test was performed \n",
        "    if r ==-1: \n",
        "        unbounded = 1\n",
        "        print(\"Case of Unbounded\") \n",
        "        break\n",
        "\n",
        "    print(\"pivot element index:\", end =' ') \n",
        "    print(np.array([r, 3 + k])) \n",
        "\n",
        "    pivot = table[r][3 + k] \n",
        "    print(\"pivot element: \", end =\" \") \n",
        "    print(Fraction(pivot).limit_denominator(100)) \n",
        "    \n",
        "# perform row operations \n",
        "    # divide the pivot row with the pivot element \n",
        "    table[r, 2:len(table[0])] = table[r, 2:len(table[0])] / pivot \n",
        "\n",
        "# do row operations on other rows \n",
        "    i = 0\n",
        "    while i<len(table): \n",
        "        if i != r: \n",
        "            table[i, 2:len(table[0])] = table[i, 2:len(table[0])] - table[i][3 + k] * table[r, 2:len(table[0])] \n",
        "        i += 1\n",
        "\n",
        "# assign the new basic variable \n",
        "    table[r][0] = k \n",
        "    table[r][1] = c[k] \n",
        "    \n",
        "    print() \n",
        "    itr+= 1\n",
        "\n",
        "print(\"Simplex Algorithm Ends\") "
      ]
    },
    {
      "cell_type": "markdown",
      "source": [
        "Hence, optimal solution is arrived with value of variables as :\n",
        "y1=0.24,y2=0.16,y3=0.12"
      ],
      "metadata": {
        "id": "izVmKK5i-iuk"
      },
      "id": "izVmKK5i-iuk"
    },
    {
      "cell_type": "markdown",
      "source": [
        "Max Zq=0.52\n",
        "\n",
        "\n",
        " \n",
        "=1.9231"
      ],
      "metadata": {
        "id": "JHBli6bK-s-J"
      },
      "id": "JHBli6bK-s-J"
    },
    {
      "cell_type": "code",
      "source": [
        "y1 = 6/25\n",
        "y2= 4/25\n",
        "y3= 3/25\n",
        "print(f\"y1:{y1} , y2:{y2} , y3:{y3}\")"
      ],
      "metadata": {
        "colab": {
          "base_uri": "https://localhost:8080/"
        },
        "id": "yK5VFYQZCRNv",
        "outputId": "372d00bb-353b-499b-ef50-bf5ee59c802a"
      },
      "id": "yK5VFYQZCRNv",
      "execution_count": null,
      "outputs": [
        {
          "output_type": "stream",
          "name": "stdout",
          "text": [
            "y1:0.24 , y2:0.16 , y3:0.12\n"
          ]
        }
      ]
    },
    {
      "cell_type": "code",
      "execution_count": null,
      "id": "handed-resolution",
      "metadata": {
        "colab": {
          "base_uri": "https://localhost:8080/"
        },
        "id": "handed-resolution",
        "outputId": "29eaed5d-14a9-4bad-84a1-467c487e517a"
      },
      "outputs": [
        {
          "output_type": "execute_result",
          "data": {
            "text/plain": [
              "0.52"
            ]
          },
          "metadata": {},
          "execution_count": 12
        }
      ],
      "source": [
        "v   = 6/25 + 4/25 + 3/25 \n",
        "v"
      ]
    },
    {
      "cell_type": "code",
      "source": [
        "#now \n",
        "V= 1/v\n",
        "V"
      ],
      "metadata": {
        "colab": {
          "base_uri": "https://localhost:8080/"
        },
        "id": "NvmRulWq-8ZC",
        "outputId": "d42a1faa-7c36-4848-f05b-ff9fc1ff8542"
      },
      "id": "NvmRulWq-8ZC",
      "execution_count": null,
      "outputs": [
        {
          "output_type": "execute_result",
          "data": {
            "text/plain": [
              "1.923076923076923"
            ]
          },
          "metadata": {},
          "execution_count": 14
        }
      ]
    },
    {
      "cell_type": "markdown",
      "source": [
        "#Value of the game"
      ],
      "metadata": {
        "id": "9RdNqFgBDpzo"
      },
      "id": "9RdNqFgBDpzo"
    },
    {
      "cell_type": "code",
      "source": [
        "#But, here constant k = 2 was added to all the elements of pay-off matrix.\n",
        "#So expected value of the game is Z=V-k   k=2\n",
        "Z = V - k\n",
        "print(\"EXPECTED VALUE OF THE GAME IS :\",Z)"
      ],
      "metadata": {
        "colab": {
          "base_uri": "https://localhost:8080/"
        },
        "id": "UCYcOLuQ-BTb",
        "outputId": "4146a6c2-7883-427e-b727-726b77e3fd9c"
      },
      "id": "UCYcOLuQ-BTb",
      "execution_count": null,
      "outputs": [
        {
          "output_type": "stream",
          "name": "stdout",
          "text": [
            "EXPECTED VALUE OF THE GAME IS : -0.0769230769230771\n"
          ]
        }
      ]
    },
    {
      "cell_type": "markdown",
      "source": [
        "#B's optimal strategy is "
      ],
      "metadata": {
        "id": "sAQHnsszC2RQ"
      },
      "id": "sAQHnsszC2RQ"
    },
    {
      "cell_type": "code",
      "source": [
        "q1 = V *y1 \n",
        "q2 = V*y2\n",
        "q3 = V*y3\n",
        "print(f\"q1:{q1} , q2:{q2} , q3:{q3}\")"
      ],
      "metadata": {
        "colab": {
          "base_uri": "https://localhost:8080/"
        },
        "id": "JDrLNwux7_Hb",
        "outputId": "91e1699e-4b9f-4104-b262-cd2cb720727f"
      },
      "id": "JDrLNwux7_Hb",
      "execution_count": null,
      "outputs": [
        {
          "output_type": "stream",
          "name": "stdout",
          "text": [
            "q1:0.46153846153846145 , q2:0.30769230769230765 , q3:0.23076923076923073\n"
          ]
        }
      ]
    },
    {
      "cell_type": "markdown",
      "source": [
        "#player A's optimal strategy\n",
        "The values for x1,x2,x3 can be obtained from the zj-cj row of final simplex table\n",
        "\n",
        "x1=0.24,x2=0.12,x3=0.16"
      ],
      "metadata": {
        "id": "2VzeZgWTDWB3"
      },
      "id": "2VzeZgWTDWB3"
    },
    {
      "cell_type": "code",
      "source": [
        "x1=0.24\n",
        "x2=0.12\n",
        "x3=0.16\n",
        "p1 = V *x1 \n",
        "p2 = V*x2\n",
        "p3 = V*x3\n",
        "print(f\"p1:{p1} , p2:{p2} , p3:{p3}\")"
      ],
      "metadata": {
        "colab": {
          "base_uri": "https://localhost:8080/"
        },
        "id": "kDfV5nqxDZW3",
        "outputId": "f4df870e-8404-4567-c4f5-b5e4b69c6cb5"
      },
      "id": "kDfV5nqxDZW3",
      "execution_count": null,
      "outputs": [
        {
          "output_type": "stream",
          "name": "stdout",
          "text": [
            "p1:0.46153846153846145 , p2:0.23076923076923073 , p3:0.30769230769230765\n"
          ]
        }
      ]
    },
    {
      "cell_type": "code",
      "source": [],
      "metadata": {
        "id": "uMVJGY3dDm4_"
      },
      "id": "uMVJGY3dDm4_",
      "execution_count": null,
      "outputs": []
    }
  ],
  "metadata": {
    "kernelspec": {
      "display_name": "Python 3",
      "language": "python",
      "name": "python3"
    },
    "language_info": {
      "codemirror_mode": {
        "name": "ipython",
        "version": 3
      },
      "file_extension": ".py",
      "mimetype": "text/x-python",
      "name": "python",
      "nbconvert_exporter": "python",
      "pygments_lexer": "ipython3",
      "version": "3.10.0"
    },
    "colab": {
      "provenance": []
    }
  },
  "nbformat": 4,
  "nbformat_minor": 5
}