{
  "nbformat": 4,
  "nbformat_minor": 0,
  "metadata": {
    "colab": {
      "provenance": []
    },
    "kernelspec": {
      "name": "python3",
      "display_name": "Python 3"
    },
    "language_info": {
      "name": "python"
    }
  },
  "cells": [
    {
      "cell_type": "markdown",
      "source": [
        "**ID -202218061**\n",
        "\n",
        "**SUB - OPTIMIZATION**\n"
      ],
      "metadata": {
        "id": "AWmmhk7GCN-f"
      }
    },
    {
      "cell_type": "markdown",
      "source": [
        "**Problem Description:**\n",
        "\n",
        "Suppose a company has several factories that produce a certain product, and several warehouses\n",
        "that distribute the product. Each factory can produce a certain amount of the product, and each\n",
        "warehouse has a certain demand for the product. The goal is to minimize the cost of transporting\n",
        "the product from the factories to the warehouses, subject to the constraints of supply and demand.\n",
        "\n",
        "Write a Python program to implement the Northwest Corner method for solving the transportation\n",
        "problem. Your program should take the following inputs:\n",
        "\n",
        "  A list of factories, each represented by a tuple of the form (supply, [costs]), where supply is\n",
        "the amount that the factory can produce, and costs is a list of transportation costs from the\n",
        "factory to each warehouse. The length of costs should be equal to the number of\n",
        "warehouses.\n",
        "\n",
        "• A list of warehouses, each represented by a tuple of the form (demand, [costs]), where\n",
        "demand is the amount that the warehouse needs, and costs is a list of transportation costs\n",
        "from each factory to the warehouse. The length of costs should be equal to the number of\n",
        "factories.\n",
        "\n",
        "\n",
        "Your program should return a list of shipments, where each shipment is represented by a tuple of\n",
        "the form (factory, warehouse, amount), indicating that amount units of the product should be\n",
        "shipped from factory to warehouse.\n",
        "\n",
        "\n",
        "Your program should implement the Northwest Corner method as described above. If there are\n",
        "multiple optimal solutions, your program should return any one of them.\n",
        "\n",
        "\n",
        "Sample Input:\n",
        "\n",
        "factories = [(10, [2, 3, 1]), (20, [4, 5, 6])]\n",
        "\n",
        "\n",
        "warehouses = [(8, [5, 4, 3]), (15, [2, 3, 1]), (5, [4, 1, 2])]\n",
        "\n",
        "Sample Output:\n",
        "\n",
        "[(0, 0, 8), (0, 1, 2), (1, 1, 13), (1, 2, 5)]"
      ],
      "metadata": {
        "id": "_BLTiKECCvb5"
      }
    },
    {
      "cell_type": "code",
      "source": [
        "#Input\n",
        "factories=[(10, [2, 3, 1]), (20, [4, 5, 6])]\n",
        "warehouse = [(8, [5, 4, 3]), (15, [2, 3, 1]), (5, [4, 1, 2])]"
      ],
      "metadata": {
        "id": "qMFzp4n5CRd6"
      },
      "execution_count": null,
      "outputs": []
    },
    {
      "cell_type": "code",
      "source": [
        "#Assigning demand and supply\n",
        "supply =[]\n",
        "demand =[]\n",
        "for i in factories:\n",
        "  supply.append(i[0])\n",
        "for i in warehouse:\n",
        "  demand.append(i[0])\n",
        "\n",
        "#Making matrix where we allocate optimized suppy and demand\n",
        "mat=[]\n",
        "for i in range(len(factories)):\n",
        "  zero=[]\n",
        "  for j in range(len(warehouse)):\n",
        "    zero.append(0)\n",
        "  mat.append(zero)\n",
        "\n",
        "#Solving transportation problem\n",
        "c1=0 #c1 will count for factories \n",
        "c2=0 # c2 will count for warehouses\n",
        "\n",
        "#while c1<len(factories) or c2<len(warehouse)\n",
        "while c1<len(factories) and c2<len(warehouse):\n",
        "  if supply[c1]<demand[c2]: #if supply is minimum than demand \n",
        "    mat[c1][c2] = supply[c1]\n",
        "    demand[c2] =demand[c2] - supply[c1]\n",
        "    c1+=1\n",
        "\n",
        "  else: #demand is minimum than supply\n",
        "    mat[c1][c2] = demand[c2]\n",
        "    supply[c1]= supply[c1] - demand[c2]\n",
        "    c2+=1\n",
        "\n",
        "#printing answer\n",
        "amount=[]\n",
        "shipment =[]\n",
        "for c1 in range(len(factories)):\n",
        "  for c2 in range(len(warehouse)):\n",
        "    if mat[c1][c2] > 0:\n",
        "      amount.append(mat[c1][c2])\n",
        "      # print(\"Amount for transportation is \",amount)\n",
        "      shipment.append((c1,c2,mat[c1][c2]))\n",
        "print(\"Amount for transportation is \",amount)\n",
        "print(\"A list of shipments, where each shipment is represented by a tuple of the form (factory, warehouse, amount)\",shipment)\n",
        "      \n",
        "\n"
      ],
      "metadata": {
        "colab": {
          "base_uri": "https://localhost:8080/"
        },
        "id": "cZgN9KQ4xzpC",
        "outputId": "bff7e571-9877-49e8-8a02-8059da90e516"
      },
      "execution_count": null,
      "outputs": [
        {
          "output_type": "stream",
          "name": "stdout",
          "text": [
            "Amount for transportation is  [8, 2, 13, 5]\n",
            "A list of shipments, where each shipment is represented by a tuple of the form (factory, warehouse, amount) [(0, 0, 8), (0, 1, 2), (1, 1, 13), (1, 2, 5)]\n"
          ]
        }
      ]
    },
    {
      "cell_type": "code",
      "source": [],
      "metadata": {
        "id": "PySekuLV5iqg"
      },
      "execution_count": null,
      "outputs": []
    }
  ]
}